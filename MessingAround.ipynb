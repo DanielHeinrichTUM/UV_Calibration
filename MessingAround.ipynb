{
 "cells": [
  {
   "cell_type": "code",
   "execution_count": null,
   "id": "368c41ae",
   "metadata": {},
   "outputs": [],
   "source": [
    "from gpiozero import LED\n",
    "from time import sleep\n",
    "import json\n",
    "from Pulsecontroller import LEDPulseController\n",
    "import sys\n",
    "\n",
    "sys.modules['RPi'] = __import__('fake_rpi').RPi\n",
    "sys.modules['RPi.GPIO'] = __import__('fake_rpi').RPIO.GPIO\n",
    "\n",
    "\"\"\"basically you can write whatever LED Pulse scenario you like directly into the main here and execute.\n",
    "This is free for messing around, the underlying functions are defined in the puls controller and Raspi config information (like for example Pin selection) can be taken from the config.json\n",
    "\"\"\"\n",
    "if __name__ == \"__main__\":\n",
    "    try:\n",
    "        led = LEDPulseController()\n",
    "        \n",
    "        print(\"Running default pulse pattern\")\n",
    "        led.pulse(**led.config[\"default_pulse\"])\n",
    "        \n",
    "        print(\"Running SOS pattern\")\n",
    "        led.run_pattern(\"sos\")\n",
    "        \n",
    "        print(\"Running heartbeat pattern\")\n",
    "        led.run_pattern(\"heartbeat\")\n",
    "        \n",
    "    except KeyboardInterrupt:\n",
    "        print(\"\\nProgram stopped by user\")\n",
    "    finally:\n",
    "        led.led.off()  # Ensure LED turns off\n"
   ]
  }
 ],
 "metadata": {
  "kernelspec": {
   "display_name": "led_env",
   "language": "python",
   "name": "python3"
  },
  "language_info": {
   "name": "python",
   "version": "3.11.9"
  }
 },
 "nbformat": 4,
 "nbformat_minor": 5
}
